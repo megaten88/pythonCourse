{
 "cells": [
  {
   "cell_type": "markdown",
   "source": [
    "# Regular Expresions\n",
    "## What is a *regular expression*?\n",
    "A regular expression, or regex, is essentially a search query for text that's expressed by a string pattern.\n",
    "\n",
    "On a console, we can use de `grep` command, to query a file.\n",
    "The `/usr/share/dict/words` file is generally used by spell-checking programs to check if a word exist.  \n",
    "\n",
    "```Bash\n",
    "grep thon /usr/share/dict/words\n",
    "```\n",
    "This command returns all words that matches with `thon`, case sensitive.\n",
    "To make the grep command query insensitive, just add the -i flag.\n",
    "<br>\n",
    "\n",
    "```Bash\n",
    "grep -i python /usr/share/dict/words\n",
    "```\n",
    "<br>\n"
   ],
   "metadata": {}
  },
  {
   "cell_type": "markdown",
   "source": [
    "\n",
    "# Special Characters\n",
    "Are those characters that allow us do a more advanced matching.\n",
    "<br>\n",
    "<br>\n",
    "\n",
    "## The  `dot(.)`  character\n",
    "Matches any character.\n",
    "<br>\n",
    "```Bash\n",
    "grep l.rts /usr/share/dict/words\n",
    "```\n",
    "\n",
    "The `dot(.)` will match any character(s) between l and rts.\n",
    "<br>\n",
    "<br>\n",
    "\n",
    "## The  `circumflex(^)`  character\n",
    "Matches any end of line that starts with the pattern.\n",
    "<br>\n",
    "\n",
    "```Bash\n",
    "grep ^fruit /usr/share/dict/words\n",
    "```\n",
    "\n",
    "The `circumflex(^)` will match any end of line that starts with \"fruit\".\n",
    "<br>\n",
    "<br>\n",
    "\n",
    "## The  `dollar sign($)`  character\n",
    "Matches any end of line that ends with the pattern.\n",
    "<br>\n",
    "\n",
    "```Bash\n",
    "grep cat$ /usr/share/dict/words\n",
    "```\n",
    "\n",
    "The `dollar sign($)` will match any end of line that ends with \"cat\".\n"
   ],
   "metadata": {}
  },
  {
   "cell_type": "markdown",
   "source": [
    "# Basic Regular Expressions\n",
    "On Python, the module for regular expressions is the `re` module.  \n",
    "The re.search() function will return a match object, with the span of where the \"end of line is found\".  \n",
    "The `r`, on the following example, represents a *rawstring*, which is to let Python know to not interpret any special characters. \n",
    "<br>\n",
    "\n",
    "If a match is not found, a `None` result will be returned."
   ],
   "metadata": {}
  },
  {
   "cell_type": "code",
   "execution_count": 4,
   "source": [
    "import re\n",
    "result = re.search(r\"aza\", \"plaza\")\n",
    "print(result)"
   ],
   "outputs": [
    {
     "output_type": "stream",
     "name": "stdout",
     "text": [
      "<re.Match object; span=(2, 5), match='aza'>\n"
     ]
    }
   ],
   "metadata": {}
  },
  {
   "cell_type": "code",
   "execution_count": 5,
   "source": [
    "result = re.search(r\"aza\",\"this\")\n",
    "print(result)"
   ],
   "outputs": [
    {
     "output_type": "stream",
     "name": "stdout",
     "text": [
      "None\n"
     ]
    }
   ],
   "metadata": {}
  },
  {
   "cell_type": "code",
   "execution_count": 9,
   "source": [
    "result = re.search(r\"p.ng\",\"penguin\")\n",
    "print(result)\n",
    "result = re.search(r\"p.ng\",\"sponge\")\n",
    "print(result)\n",
    "# To match regardless of the case, add the parameter IGNORECASE to the search functions\n",
    "result = re.search(r\"p.ng\",\"Pangaea\", re.IGNORECASE)\n",
    "print(result)"
   ],
   "outputs": [
    {
     "output_type": "stream",
     "name": "stdout",
     "text": [
      "<re.Match object; span=(0, 4), match='peng'>\n",
      "<re.Match object; span=(1, 5), match='pong'>\n",
      "<re.Match object; span=(0, 4), match='Pang'>\n"
     ]
    }
   ],
   "metadata": {}
  },
  {
   "cell_type": "markdown",
   "source": [
    "The following example shows code to check if the text passed contains the vowels a, e and i, with exactly one occurrence of any other character in between."
   ],
   "metadata": {}
  },
  {
   "cell_type": "code",
   "execution_count": 8,
   "source": [
    "import re\n",
    "def check_aei (text):\n",
    "  result = re.search(r\"a.e.i\", text)\n",
    "  return result != None\n",
    "\n",
    "print(check_aei(\"academia\")) # True\n",
    "print(check_aei(\"aerial\")) # False\n",
    "print(check_aei(\"paramedic\")) # True"
   ],
   "outputs": [
    {
     "output_type": "stream",
     "name": "stdout",
     "text": [
      "True\n",
      "False\n",
      "True\n"
     ]
    }
   ],
   "metadata": {}
  },
  {
   "cell_type": "markdown",
   "source": [
    "# Wildcards and Character Classes\n",
    "\n",
    "The dot is known as a wildcard, because it can match more than one character.   \n",
    "Using a dot is the broadest possible wildcard because it matches absolutely any character. But what if we wanted something stricter, like checking if an answer given by a user contains a valid character, or finding all the usernames in a CSV file that start with a vowel? We have to restrict our wildcards to a range of characters to do this. For this task we use another feature of regexes called character classes. \n",
    "\n",
    "## Character Clases\n",
    "Character classes are written inside square brackets and let us list the characters we want to match inside of those brackets."
   ],
   "metadata": {}
  },
  {
   "cell_type": "code",
   "execution_count": 10,
   "source": [
    "# In this example, the [Pp] matches either Python or python\n",
    "result = re.search(r\"[Pp]ython\",\"Python\")\n",
    "print(result)"
   ],
   "outputs": [
    {
     "output_type": "stream",
     "name": "stdout",
     "text": [
      "<re.Match object; span=(0, 6), match='Python'>\n"
     ]
    }
   ],
   "metadata": {}
  },
  {
   "cell_type": "markdown",
   "source": [
    "Inside the square brackets, we can also define a range of characters using a dash.\n",
    "For example, we could use lowercase a to lowercase z to state any lowercase letter. So if we wanted to look for the string way preceded by any letter, we could write the expression like this:"
   ],
   "metadata": {}
  },
  {
   "cell_type": "code",
   "execution_count": 11,
   "source": [
    "print(re.search(r\"[a-z]way\", \"The end of the highway\"))"
   ],
   "outputs": [
    {
     "output_type": "stream",
     "name": "stdout",
     "text": [
      "<re.Match object; span=(18, 22), match='lway'>\n"
     ]
    }
   ],
   "metadata": {}
  }
 ],
 "metadata": {
  "interpreter": {
   "hash": "31f2aee4e71d21fbe5cf8b01ff0e069b9275f58929596ceb00d14d90e3e16cd6"
  },
  "kernelspec": {
   "name": "python3",
   "display_name": "Python 3.8.10 64-bit"
  },
  "language_info": {
   "codemirror_mode": {
    "name": "ipython",
    "version": 3
   },
   "file_extension": ".py",
   "mimetype": "text/x-python",
   "name": "python",
   "nbconvert_exporter": "python",
   "pygments_lexer": "ipython3",
   "version": "3.8.10"
  }
 },
 "nbformat": 4,
 "nbformat_minor": 2
}