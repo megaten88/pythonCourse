{
 "cells": [
  {
   "cell_type": "markdown",
   "source": [
    "# Regular Expresions\n",
    "## What is a *regular expression*?\n",
    "A regular expression, or regex, is essentially a search query for text that's expressed by a string pattern.\n",
    "\n",
    "On a console, we can use de `grep` command, to query a file.\n",
    "The `/usr/share/dict/words` file is generally used by spell-checking programs to check if a word exist.  \n",
    "\n",
    "```Bash\n",
    "grep thon /usr/share/dict/words\n",
    "```\n",
    "This command returns all words that matches with `thon`, case sensitive.\n",
    "To make the grep command query insensitive, just add the -i flag.\n",
    "<br>\n",
    "\n",
    "```Bash\n",
    "grep -i python /usr/share/dict/words\n",
    "```\n",
    "<br>\n"
   ],
   "metadata": {}
  },
  {
   "cell_type": "markdown",
   "source": [
    "\n",
    "# Special Characters\n",
    "Are those characters that allow us do a more advanced matching.\n",
    "<br>\n",
    "<br>\n",
    "\n",
    "## The  `dot(.)`  character\n",
    "Matches any character.\n",
    "<br>\n",
    "```Bash\n",
    "grep l.rts /usr/share/dict/words\n",
    "```\n",
    "\n",
    "The `dot(.)` will match any character(s) between l and rts.\n",
    "<br>\n",
    "<br>\n",
    "\n",
    "## The  `circumflex(^)`  character\n",
    "Matches any end of line that starts with the pattern.\n",
    "<br>\n",
    "\n",
    "```Bash\n",
    "grep ^fruit /usr/share/dict/words\n",
    "```\n",
    "\n",
    "The `circumflex(^)` will match any end of line that starts with \"fruit\".\n",
    "<br>\n",
    "<br>\n",
    "\n",
    "## The  `dollar sign($)`  character\n",
    "Matches any end of line that ends with the pattern.\n",
    "<br>\n",
    "\n",
    "```Bash\n",
    "grep cat$ /usr/share/dict/words\n",
    "```\n",
    "\n",
    "The `dollar sign($)` will match any end of line that ends with \"cat\".\n"
   ],
   "metadata": {}
  },
  {
   "cell_type": "markdown",
   "source": [
    "# Basic Regular Expressions\n",
    "On Python, the module for regular expressions is the `re` module.  \n",
    "The re.search() function will return a match object, with the span of where the \"end of line is found\".  \n",
    "The `r`, on the following example, represents a *rawstring*, which is to let Python know to not interpret any special characters. \n",
    "<br>\n",
    "\n",
    "If a match is not found, a `None` result will be returned."
   ],
   "metadata": {}
  },
  {
   "cell_type": "code",
   "execution_count": 35,
   "source": [
    "import re\n",
    "result = re.search(r\"aza\", \"plaza\")\n",
    "print(result)"
   ],
   "outputs": [
    {
     "output_type": "stream",
     "name": "stdout",
     "text": [
      "<re.Match object; span=(2, 5), match='aza'>\n"
     ]
    }
   ],
   "metadata": {}
  },
  {
   "cell_type": "code",
   "execution_count": 36,
   "source": [
    "result = re.search(r\"aza\",\"this\")\n",
    "print(result)"
   ],
   "outputs": [
    {
     "output_type": "stream",
     "name": "stdout",
     "text": [
      "None\n"
     ]
    }
   ],
   "metadata": {}
  },
  {
   "cell_type": "code",
   "execution_count": 37,
   "source": [
    "result = re.search(r\"p.ng\",\"penguin\")\n",
    "print(result)\n",
    "result = re.search(r\"p.ng\",\"sponge\")\n",
    "print(result)\n",
    "# To match regardless of the case, add the parameter IGNORECASE to the search functions\n",
    "result = re.search(r\"p.ng\",\"Pangaea\", re.IGNORECASE)\n",
    "print(result)"
   ],
   "outputs": [
    {
     "output_type": "stream",
     "name": "stdout",
     "text": [
      "<re.Match object; span=(0, 4), match='peng'>\n",
      "<re.Match object; span=(1, 5), match='pong'>\n",
      "<re.Match object; span=(0, 4), match='Pang'>\n"
     ]
    }
   ],
   "metadata": {}
  },
  {
   "cell_type": "markdown",
   "source": [
    "The following example shows code to check if the text passed contains the vowels a, e and i, with exactly one occurrence of any other character in between."
   ],
   "metadata": {}
  },
  {
   "cell_type": "code",
   "execution_count": 38,
   "source": [
    "import re\n",
    "def check_aei (text):\n",
    "  result = re.search(r\"a.e.i\", text)\n",
    "  return result != None\n",
    "\n",
    "print(check_aei(\"academia\")) # True\n",
    "print(check_aei(\"aerial\")) # False\n",
    "print(check_aei(\"paramedic\")) # True"
   ],
   "outputs": [
    {
     "output_type": "stream",
     "name": "stdout",
     "text": [
      "True\n",
      "False\n",
      "True\n"
     ]
    }
   ],
   "metadata": {}
  },
  {
   "cell_type": "markdown",
   "source": [
    "# Wildcards and Character Classes\n",
    "\n",
    "The dot is known as a wildcard, because it can match more than one character.    \n",
    "Using a dot is the broadest possible wildcard because it matches absolutely any character. But what if we wanted something stricter, like checking if an answer given by a user contains a valid character, or finding all the usernames in a CSV file that start with a vowel?  \n",
    "We have to restrict our wildcards to a range of characters to do this.  \n",
    "For this task we use another feature of regexes called character classes.  \n",
    "\n",
    "## Character Clases\n",
    "Character classes are written inside square brackets and let us list the characters we want to match inside of those brackets."
   ],
   "metadata": {}
  },
  {
   "cell_type": "code",
   "execution_count": 39,
   "source": [
    "# In this example, the [Pp] matches either Python or python\n",
    "result = re.search(r\"[Pp]ython\",\"Python\")\n",
    "print(result)"
   ],
   "outputs": [
    {
     "output_type": "stream",
     "name": "stdout",
     "text": [
      "<re.Match object; span=(0, 6), match='Python'>\n"
     ]
    }
   ],
   "metadata": {}
  },
  {
   "cell_type": "markdown",
   "source": [
    "Inside the square brackets, we can also define a range of characters using a dash.\n",
    "For example, we could use lowercase a to lowercase z to state any lowercase letter. So if we wanted to look for the string way preceded by any letter, we could write the expression like this:"
   ],
   "metadata": {}
  },
  {
   "cell_type": "code",
   "execution_count": 40,
   "source": [
    "print(re.search(r\"[a-z]way\", \"The end of the highway\"))"
   ],
   "outputs": [
    {
     "output_type": "stream",
     "name": "stdout",
     "text": [
      "<re.Match object; span=(18, 22), match='hway'>\n"
     ]
    }
   ],
   "metadata": {}
  },
  {
   "cell_type": "markdown",
   "source": [
    "Code to check if the text passed contains punctuation symbols: commas, periods, colons, semicolons, question marks, and exclamation points."
   ],
   "metadata": {}
  },
  {
   "cell_type": "code",
   "execution_count": 41,
   "source": [
    "import re\n",
    "def check_punctuation (text):\n",
    "  result = re.search(r\"[.,;:?!]\", text)\n",
    "  return result != None\n",
    "\n",
    "print(check_punctuation(\"This is a sentence that ends with a period.\")) # True\n",
    "print(check_punctuation(\"This is a sentence fragment without a period\")) # False\n",
    "print(check_punctuation(\"Aren't regular expressions awesome?\")) # True\n",
    "print(check_punctuation(\"Wow! We're really picking up some steam now!\")) # True\n",
    "print(check_punctuation(\"End of the line\")) # False"
   ],
   "outputs": [
    {
     "output_type": "stream",
     "name": "stdout",
     "text": [
      "True\n",
      "False\n",
      "True\n",
      "True\n",
      "False\n"
     ]
    }
   ],
   "metadata": {}
  },
  {
   "cell_type": "markdown",
   "source": [
    "Sometimes we may want to match any characters that aren't in a group. To do that, we use a circumflex inside the square brackets `[^]`. \n",
    "For example, let's create a search pattern that looks for any characters that's not a letter."
   ],
   "metadata": {}
  },
  {
   "cell_type": "code",
   "execution_count": 42,
   "source": [
    "#This will match all characters that are not letters\n",
    "print(re.search(r\"[^a-zA-Z]\", \"The end of the highway\"))\n",
    "# If a space would not be matched, we can add it into the brackets\n",
    "print(re.search(r\"[^a-zA-Z ]\", \"The end of the highway\"))\n",
    "# To find all matchs in a string, use findall\n",
    "print(re.findall(r\"cat|dog\", \"I like cat and dogs\"))"
   ],
   "outputs": [
    {
     "output_type": "stream",
     "name": "stdout",
     "text": [
      "<re.Match object; span=(3, 4), match=' '>\n",
      "None\n",
      "['cat', 'dog']\n"
     ]
    }
   ],
   "metadata": {}
  },
  {
   "cell_type": "markdown",
   "source": [
    "# Repetition Qualifiers\n",
    "Repeated matches is a concept used for expressions that include repeatitions, marked as `*`.  \n",
    " It's quite common to see expressions that include a dot followed by a star.  \n",
    " This means that it matches any character repeated as many times as possible including zero. "
   ],
   "metadata": {}
  },
  {
   "cell_type": "code",
   "execution_count": 43,
   "source": [
    "# This will match any word or line that has Py followed by any number of characters and finished in n\n",
    "print(re.search(r\"Py.*n\", \"Pygmalion\"))\n",
    "# This is a greedy strategy, since it will match the last occurence from the pattern\n",
    "print(re.search(r\"Py.*n\", \"Python Programming\"))\n",
    "# This a better way to match \n",
    "print(re.search(r\"Py[a-z]*n\", \"Python Programming\"))"
   ],
   "outputs": [
    {
     "output_type": "stream",
     "name": "stdout",
     "text": [
      "<re.Match object; span=(0, 9), match='Pygmalion'>\n",
      "<re.Match object; span=(0, 17), match='Python Programmin'>\n",
      "<re.Match object; span=(0, 6), match='Python'>\n"
     ]
    }
   ],
   "metadata": {}
  },
  {
   "cell_type": "markdown",
   "source": [
    "We have also another repetition qualifiers `+` or `?`.\n",
    "The plus `+` character matches one or more occurrences of the character that comes before it.\n",
    "The question mark `?` means either zero or one occurrence of the character before it."
   ],
   "metadata": {}
  },
  {
   "cell_type": "code",
   "execution_count": 44,
   "source": [
    "# Matches + occurences\n",
    "print(re.search(r\"o+l+\",\"goldfish\"))\n",
    "print(re.search(r\"o+l+\",\"boily\"))\n",
    "# Matches ? ocurrences\n",
    "print(re.search(r\"p?each\",\"To each their own\"))\n"
   ],
   "outputs": [
    {
     "output_type": "stream",
     "name": "stdout",
     "text": [
      "<re.Match object; span=(1, 3), match='ol'>\n",
      "None\n",
      "<re.Match object; span=(3, 7), match='each'>\n"
     ]
    }
   ],
   "metadata": {}
  },
  {
   "cell_type": "markdown",
   "source": [
    "The repeating_letter_a function checks if the text passed includes the letter \"a\" (lowercase or uppercase) at least twice.   \n",
    "For example, repeating_letter_a(\"banana\") is True, while repeating_letter_a(\"pineapple\") is False. "
   ],
   "metadata": {}
  },
  {
   "cell_type": "code",
   "execution_count": 45,
   "source": [
    "import re\n",
    "def repeating_letter_a(text):\n",
    "  result = re.search(r\"a.*a\", text, re.IGNORECASE)\n",
    "  return result != None\n",
    "\n",
    "print(repeating_letter_a(\"banana\")) # True\n",
    "print(repeating_letter_a(\"pineapple\")) # False\n",
    "print(repeating_letter_a(\"Animal Kingdom\")) # True\n",
    "print(repeating_letter_a(\"A is for apple\")) # True"
   ],
   "outputs": [
    {
     "output_type": "stream",
     "name": "stdout",
     "text": [
      "True\n",
      "False\n",
      "True\n",
      "True\n"
     ]
    }
   ],
   "metadata": {}
  },
  {
   "cell_type": "markdown",
   "source": [
    "# Escaping Characters\n",
    "We can use in our regular expressions to make them match different kinds of strings: dot, star, plus, question mark, circumflex, dollar sign, and square brackets.\n",
    "But what if a string needs to match one of these characters?  \n",
    "For this cases we need to use an escape character `\\`."
   ],
   "metadata": {}
  },
  {
   "cell_type": "code",
   "execution_count": 46,
   "source": [
    "# Using backslash to escape a character\n",
    "print(re.search(r\"\\.com\",\"carlos123@gmail.com\"))"
   ],
   "outputs": [
    {
     "output_type": "stream",
     "name": "stdout",
     "text": [
      "<re.Match object; span=(15, 19), match='.com'>\n"
     ]
    }
   ],
   "metadata": {}
  },
  {
   "cell_type": "markdown",
   "source": [
    "Code to check if the text passed has at least 2 groups of alphanumeric characters (including letters, numbers, and underscores) separated by one or more whitespace characters."
   ],
   "metadata": {}
  },
  {
   "cell_type": "code",
   "execution_count": 47,
   "source": [
    "import re\n",
    "def check_character_groups(text):\n",
    "  result = re.search(r\"\\w +\", text)\n",
    "  return result != None\n",
    "\n",
    "print(check_character_groups(\"One\")) # False\n",
    "print(check_character_groups(\"123  Ready Set GO\")) # True\n",
    "print(check_character_groups(\"username user_01\")) # True\n",
    "print(check_character_groups(\"shopping_list: milk, bread, eggs.\")) # False"
   ],
   "outputs": [
    {
     "output_type": "stream",
     "name": "stdout",
     "text": [
      "False\n",
      "True\n",
      "True\n",
      "False\n"
     ]
    }
   ],
   "metadata": {}
  }
 ],
 "metadata": {
  "interpreter": {
   "hash": "31f2aee4e71d21fbe5cf8b01ff0e069b9275f58929596ceb00d14d90e3e16cd6"
  },
  "kernelspec": {
   "name": "python3",
   "display_name": "Python 3.8.10 64-bit"
  },
  "language_info": {
   "codemirror_mode": {
    "name": "ipython",
    "version": 3
   },
   "file_extension": ".py",
   "mimetype": "text/x-python",
   "name": "python",
   "nbconvert_exporter": "python",
   "pygments_lexer": "ipython3",
   "version": "3.8.10"
  }
 },
 "nbformat": 4,
 "nbformat_minor": 2
}