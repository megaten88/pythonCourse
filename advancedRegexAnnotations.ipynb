{
 "cells": [
  {
   "cell_type": "markdown",
   "source": [
    "# Capturing Groups\n",
    "Capturing groups are portions of the pattern that are enclosed in parentheses.\n",
    "Lets say that we have a list of employees that are saved in the format `lastname, firstname` but we want them as `firstname, lastname`. "
   ],
   "metadata": {}
  },
  {
   "cell_type": "code",
   "execution_count": 9,
   "source": [
    "import re\n",
    "result = re.search(r\"^(\\w*), (\\w*)$\", \"Lovelace, Ada\")\n",
    "print(result)\n",
    "print(result.groups())\n",
    "\n",
    "print(f\"{result[2]} {result[1]}\")\n",
    "\n",
    "# This regex will take in account the mid names\n",
    "result = re.search(r\"^([\\w \\.-]*), ([\\w \\.-]*)$\", \"Hopper, Grace M.\")"
   ],
   "outputs": [
    {
     "output_type": "stream",
     "name": "stdout",
     "text": [
      "<re.Match object; span=(0, 13), match='Lovelace, Ada'>\n",
      "('Lovelace', 'Ada')\n",
      "Ada Lovelace\n"
     ]
    }
   ],
   "metadata": {}
  },
  {
   "cell_type": "markdown",
   "source": [
    "# Repetition Qualifiers\n",
    "Numeric repetition qualifiers are written between curly brackets and can be one or two numbers specifying a range.  \n",
    "For example, to match a pattern of 5 letters:"
   ],
   "metadata": {}
  },
  {
   "cell_type": "code",
   "execution_count": 10,
   "source": [
    "print(re.search(r\"[A-Za-z]{5}\",\"a ghost\"))\n",
    "print(re.findall(r\"[A-Za-z]{5}\",\"a scary ghost appeared\"))\n",
    "\n",
    "# To indicate the pattern to bring complete words only, add the \\b at the pattern\n",
    "print(re.findall(r\"\\b[A-Za-z]{5}\\b\",\"a scary ghost appeared\"))\n"
   ],
   "outputs": [
    {
     "output_type": "stream",
     "name": "stdout",
     "text": [
      "<re.Match object; span=(2, 7), match='ghost'>\n",
      "['scary', 'ghost', 'appea']\n",
      "['scary', 'ghost']\n"
     ]
    }
   ],
   "metadata": {}
  },
  {
   "cell_type": "markdown",
   "source": [
    "The `{}` repetition qualifier can take 2 numeric qualifier, the first one is the base; the second one the limit.  \n",
    "For example `{7,14}` will resume as: \"at least 7 repetitions until 14 repetitions.\"  \n",
    "`{7,}` at least 7, no given limit.  \n",
    "`{,14}`  maximim 14, no base given.  "
   ],
   "metadata": {}
  },
  {
   "cell_type": "markdown",
   "source": [
    "# Splitting and Replacing\n",
    "On the re module, there are actually a few more functions that can be really handy depending on what we're trying to do.  \n",
    "One of these functions is called split. It works similarly to the split function that we used before with strings. But instead of taking a string as a separator, you can take any regular expression as a separator.  \n",
    "For example:\n"
   ],
   "metadata": {}
  },
  {
   "cell_type": "code",
   "execution_count": 11,
   "source": [
    "# Split sentences \n",
    "re.split(r\"[.?!]\", \"One sentence. Another one? Last one!\")"
   ],
   "outputs": [
    {
     "output_type": "execute_result",
     "data": {
      "text/plain": [
       "['One sentence', ' Another one', ' Last one', '']"
      ]
     },
     "metadata": {},
     "execution_count": 11
    }
   ],
   "metadata": {}
  },
  {
   "cell_type": "markdown",
   "source": [
    "Another interesting function provided by the RE module is called sub.  \n",
    "It's used for creating new strings by substituting all or part of them for a different string, similar to the replace string method but using regular expressions for both the matching and the replacing.\n",
    " "
   ],
   "metadata": {}
  },
  {
   "cell_type": "code",
   "execution_count": 16,
   "source": [
    "# Replace email to remail annonymous\n",
    "print(re.sub(r\"[\\w.%+-]+@[\\w.-]+\", \"[REDACTED]\", \"Received and email for go_nuts@yopmail.com\"))\n",
    "\n",
    "# Replace for name ordes, same example as before but without a function\n",
    "print(re.sub(r\"^([\\w .-]*), ([\\w .-]*)$\", r\"\\2 \\1\", \"Jack-Daniels, Juan\"))"
   ],
   "outputs": [
    {
     "output_type": "stream",
     "name": "stdout",
     "text": [
      "Received and email for [REDACTED]\n",
      "Juan Jack-Daniels\n"
     ]
    }
   ],
   "metadata": {}
  }
 ],
 "metadata": {
  "orig_nbformat": 4,
  "language_info": {
   "name": "python",
   "version": "3.8.10",
   "mimetype": "text/x-python",
   "codemirror_mode": {
    "name": "ipython",
    "version": 3
   },
   "pygments_lexer": "ipython3",
   "nbconvert_exporter": "python",
   "file_extension": ".py"
  },
  "kernelspec": {
   "name": "python3",
   "display_name": "Python 3.8.10 64-bit"
  },
  "interpreter": {
   "hash": "916dbcbb3f70747c44a77c7bcd40155683ae19c65e1c03b4aa3499c5328201f1"
  }
 },
 "nbformat": 4,
 "nbformat_minor": 2
}